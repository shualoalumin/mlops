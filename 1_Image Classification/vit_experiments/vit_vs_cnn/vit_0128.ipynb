{
 "cells": [
  {
   "cell_type": "markdown",
   "metadata": {},
   "source": [
    "# 1. Import Modules\n",
    "## (Korean) 기본 라이브러리를 불러옵니다.\n",
    "## (English) Import essential libraries."
   ]
  },
  {
   "cell_type": "code",
   "execution_count": 2,
   "metadata": {},
   "outputs": [
    {
     "ename": "",
     "evalue": "",
     "output_type": "error",
     "traceback": [
      "\u001b[1;31mThe Kernel crashed while executing code in the current cell or a previous cell. \n",
      "\u001b[1;31mPlease review the code in the cell(s) to identify a possible cause of the failure. \n",
      "\u001b[1;31mClick <a href='https://aka.ms/vscodeJupyterKernelCrash'>here</a> for more info. \n",
      "\u001b[1;31mView Jupyter <a href='command:jupyter.viewOutput'>log</a> for further details."
     ]
    }
   ],
   "source": [
    "! pip install -q tensorflow tensorflow_hub tensorflow_datasets"
   ]
  },
  {
   "cell_type": "code",
   "execution_count": null,
   "metadata": {},
   "outputs": [],
   "source": [
    "import tensorflow as tf\n",
    "import tensorflow_hub as hub\n",
    "import tensorflow_datasets as tfds\n",
    "import numpy as np\n",
    "import matplotlib.pyplot as plt\n",
    "\n",
    "print(tf.__version__)\n",
    "print(tf.test.is_gpu_available())"
   ]
  },
  {
   "cell_type": "markdown",
   "metadata": {},
   "source": [
    "# 2. Load and Split TF Flowers Dataset\n",
    "## (Korean) TF Flowers 데이터를 train, val, test로 분할합니다.\n",
    "## (English) Split the TF Flowers dataset into train, val, and test."
   ]
  },
  {
   "cell_type": "code",
   "execution_count": null,
   "metadata": {},
   "outputs": [],
   "source": [
    "dataset_name = \"tf_flowers\"\n",
    "# 예: train[:70%], train[70%:85%], train[85%:]\n",
    "train_split = \"train[:70%]\"\n",
    "val_split = \"train[70%:85%]\"\n",
    "test_split = \"train[85%:]\"\n",
    "\n",
    "(raw_train, raw_val, raw_test), info = tfds.load(\n",
    "    dataset_name,\n",
    "    split=[train_split, val_split, test_split],\n",
    "    as_supervised=True,\n",
    "    with_info=True\n",
    ")\n",
    "\n",
    "num_classes = info.features['label'].num_classes\n",
    "print(\"Number of classes:\", num_classes)\n",
    "print(\"Training samples:\", len(raw_train))\n",
    "print(\"Validation samples:\", len(raw_val))\n",
    "print(\"Test samples:\", len(raw_test))"
   ]
  },
  {
   "cell_type": "markdown",
   "metadata": {},
   "source": [
    "# 3. Data Preprocessing\n",
    "## (Korean) 이미지 크기를 (224, 224)로 리사이즈하고, 0~1 범위로 스케일링합니다.\n",
    "## (English) Resize images to (224, 224) and scale pixel values to [0, 1]."
   ]
  },
  {
   "cell_type": "code",
   "execution_count": null,
   "metadata": {},
   "outputs": [],
   "source": [
    "IMG_SIZE = 224\n",
    "BATCH_SIZE = 32\n",
    "\n",
    "def preprocess_image(image, label):\n",
    "    image = tf.image.resize(image, (IMG_SIZE, IMG_SIZE))\n",
    "    image = image / 255.0\n",
    "    return image, label\n",
    "\n",
    "train_ds = (raw_train\n",
    "    .map(preprocess_image, num_parallel_calls=tf.data.AUTOTUNE)\n",
    "    .shuffle(1000)\n",
    "    .batch(BATCH_SIZE)\n",
    "    .prefetch(tf.data.AUTOTUNE)\n",
    ")\n",
    "\n",
    "val_ds = (raw_val\n",
    "    .map(preprocess_image, num_parallel_calls=tf.data.AUTOTUNE)\n",
    "    .batch(BATCH_SIZE)\n",
    "    .prefetch(tf.data.AUTOTUNE)\n",
    ")\n",
    "\n",
    "test_ds = (raw_test\n",
    "    .map(preprocess_image, num_parallel_calls=tf.data.AUTOTUNE)\n",
    "    .batch(BATCH_SIZE)\n",
    "    .prefetch(tf.data.AUTOTUNE)\n",
    ")"
   ]
  },
  {
   "cell_type": "markdown",
   "metadata": {},
   "source": [
    "# 4. Load a Pretrained ViT Model via TensorFlow Hub\n",
    "## (Korean) TensorFlow Hub에서 사전학습된 ViT 모델을 가져옵니다.\n",
    "## (English) Fetch a pretrained ViT model from TensorFlow Hub."
   ]
  },
  {
   "cell_type": "code",
   "execution_count": null,
   "metadata": {},
   "outputs": [],
   "source": [
    "vit_url = \"https://tfhub.dev/google/vit/base_patch16_224/1\"\n",
    "vit_layer = hub.KerasLayer(vit_url, trainable=True, name=\"vit_layer\")\n",
    "print(\"ViT layer loaded.\")"
   ]
  },
  {
   "cell_type": "markdown",
   "metadata": {},
   "source": [
    "# 5. Build the Keras Model\n",
    "## (Korean) ViT 임베딩 뒤에 Dense 레이어를 연결해 분류용 Keras 모델을 구성합니다.\n",
    "## (English) Construct a Keras model by adding a Dense layer for classification after ViT embeddings."
   ]
  },
  {
   "cell_type": "code",
   "execution_count": null,
   "metadata": {},
   "outputs": [],
   "source": [
    "inputs = tf.keras.Input(shape=(IMG_SIZE, IMG_SIZE, 3), name=\"input_images\")\n",
    "x = vit_layer(inputs)\n",
    "\n",
    "# Classification head\n",
    "outputs = tf.keras.layers.Dense(num_classes, activation='softmax', name=\"output_dense\")(x)\n",
    "\n",
    "model = tf.keras.Model(inputs=inputs, outputs=outputs, name=\"ViT_Flowers\")\n",
    "model.compile(\n",
    "    optimizer=tf.keras.optimizers.Adam(learning_rate=1e-4),\n",
    "    loss=tf.keras.losses.SparseCategoricalCrossentropy(),\n",
    "    metrics=[\"accuracy\"]\n",
    ")\n",
    "model.summary()"
   ]
  },
  {
   "cell_type": "markdown",
   "metadata": {},
   "source": [
    "# 6. Train the Model\n",
    "## (Korean) 모델을 일정 에폭 동안 학습합니다.\n",
    "## (English) Train the model for a certain number of epochs."
   ]
  },
  {
   "cell_type": "code",
   "execution_count": null,
   "metadata": {},
   "outputs": [],
   "source": [
    "EPOCHS = 3  # 데모 목적으로 짧게 설정\n",
    "\n",
    "history = model.fit(\n",
    "    train_ds,\n",
    "    validation_data=val_ds,\n",
    "    epochs=EPOCHS\n",
    ")"
   ]
  },
  {
   "cell_type": "markdown",
   "metadata": {},
   "source": [
    "# 7. Evaluate on Test Set\n",
    "## (Korean) 테스트 세트를 통해 모델 성능을 확인합니다.\n",
    "## (English) Check model performance on the test set."
   ]
  },
  {
   "cell_type": "code",
   "execution_count": null,
   "metadata": {},
   "outputs": [],
   "source": [
    "test_loss, test_acc = model.evaluate(test_ds)\n",
    "print(\"Test Loss:\", test_loss)\n",
    "print(\"Test Accuracy:\", test_acc)"
   ]
  },
  {
   "cell_type": "markdown",
   "metadata": {},
   "source": [
    "# 8. Sample Prediction\n",
    "## (Korean) 임의의 배치에 대해 예측을 수행해봅니다.\n",
    "## (English) Perform a prediction on a random batch."
   ]
  },
  {
   "cell_type": "code",
   "execution_count": null,
   "metadata": {},
   "outputs": [],
   "source": [
    "import itertools\n",
    "\n",
    "# take(1)을 사용하여 첫 번째 배치를 가져옴\n",
    "for images, labels in test_ds.take(1):\n",
    "    predictions = model.predict(images)\n",
    "    pred_labels = tf.argmax(predictions, axis=1)\n",
    "    print(\"Predicted:\", pred_labels.numpy())\n",
    "    print(\"Actual:   \", labels.numpy())\n",
    "    break"
   ]
  },
  {
   "cell_type": "markdown",
   "metadata": {},
   "source": [
    "# 9. Visualization\n",
    "## (Korean) 예측 결과를 시각화하여 확인합니다.\n",
    "## (English) Visualize the prediction results."
   ]
  },
  {
   "cell_type": "code",
   "execution_count": null,
   "metadata": {},
   "outputs": [],
   "source": [
    "class_names = [\"daisy\", \"dandelion\", \"roses\", \"sunflowers\", \"tulips\"]\n",
    "# TF Flowers가 5종류 꽃으로 구성되어 있으므로 이렇게 지정\n",
    "\n",
    "# 위에서 뽑아둔 images, labels를 활용\n",
    "plt.figure(figsize=(12, 8))\n",
    "for i in range(6):\n",
    "    ax = plt.subplot(2, 3, i+1)\n",
    "    plt.imshow(images[i])\n",
    "    title = f\"Pred: {class_names[pred_labels[i]]}\\nActual: {class_names[labels[i]]}\"\n",
    "    plt.title(title)\n",
    "    plt.axis(\"off\")\n",
    "plt.tight_layout()\n",
    "plt.show()"
   ]
  },
  {
   "cell_type": "markdown",
   "metadata": {},
   "source": [
    "# (Korean) 이렇게 하면 ViT로 TF Flowers를 학습하고 평가해볼 수 있습니다.\n",
    "# (English) This completes training and evaluating the TF Flowers dataset using ViT."
   ]
  }
 ],
 "metadata": {
  "kernelspec": {
   "display_name": "Python 3",
   "language": "python",
   "name": "python3"
  },
  "language_info": {
   "codemirror_mode": {
    "name": "ipython",
    "version": 3
   },
   "file_extension": ".py",
   "mimetype": "text/x-python",
   "name": "python",
   "nbconvert_exporter": "python",
   "pygments_lexer": "ipython3",
   "version": "3.10.9"
  },
  "name": "TF_Flowers_ViT_Demo"
 },
 "nbformat": 4,
 "nbformat_minor": 5
}
